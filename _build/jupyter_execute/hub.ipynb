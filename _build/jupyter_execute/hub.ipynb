{
 "cells": [
  {
   "cell_type": "markdown",
   "id": "1ac9322c",
   "metadata": {},
   "source": [
    "# hub\n",
    "\n",
    "Please setup GitHub accounts in case you haven't already. This is the ultimate \"social media\" for programmers. You'll literally be commiting and pushing content in the joint project from your `git` onto an online repository.\n",
    "\n",
    "Ask as many queastions as emerge each day on the discussion forum to make sure you are never stranded.\n",
    "\n",
    "Your final project is an abstract to present at this years' Stata conference in [Stanford](https://www.stata.com/meeting/us23/) to be helf on 20-21 July. The deadline for submission may have passed an oustanding presentation will make a potential trip possible and a next-year presentation absolutely certain :)"
   ]
  }
 ],
 "metadata": {
  "jupytext": {
   "formats": "md:myst",
   "text_representation": {
    "extension": ".md",
    "format_name": "myst",
    "format_version": 0.13,
    "jupytext_version": "1.11.5"
   }
  },
  "kernelspec": {
   "display_name": "Python 3",
   "language": "python",
   "name": "python3"
  },
  "language_info": {
   "codemirror_mode": {
    "name": "ipython",
    "version": 3
   },
   "file_extension": ".py",
   "mimetype": "text/x-python",
   "name": "python",
   "nbconvert_exporter": "python",
   "pygments_lexer": "ipython3",
   "version": "3.10.9"
  },
  "source_map": [
   13
  ]
 },
 "nbformat": 4,
 "nbformat_minor": 5
}