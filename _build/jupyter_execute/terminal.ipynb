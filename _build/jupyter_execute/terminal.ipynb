{
 "cells": [
  {
   "attachments": {},
   "cell_type": "markdown",
   "metadata": {},
   "source": [
    "# terminal\n",
    "\n",
    "The intro to this book provides simple instructive videos on how to publish online jupyter and bookdown books, which will be the medium you use to update us each week on your progress!\n",
    "\n",
    "You will not be able to use a mouse for most of these tasks. And so if you are not familiar with `command-prompts`, this is your lucky opportunity to finally confront your fears. Its really straight-forward stuff since we will provide you with much guidance. But remember that there are lots of guides out there on youtube and even ChatGPT.\n",
    "\n",
    "Please use the discussion forum to communicate amongs each other and with your teaching team including Jason and I, but also including Vincent and Johnathan from the 340.600 class. You may use platforms beyond these for the efficiency of your team, including Microsoft teams, Slack, etc.\n",
    "\n",
    "My personal choice for a Terminal is [VS Code](https://code.visualstudio.com/download). Jason's is [RStudio](https://posit.co). One may successfully use the Macs in-built Terminal (I designed this book using it) but you'll miss out on fancy extension-packages by 3rd parties (which you may add at a later time).\n",
    "\n",
    "Feel free to watch the vides we've shared. But if you're impatient, just follow these steps and your book will be live in less than 5 minutes. You may then edit its contents:\n",
    "\n",
    "     \n",
    "\n",
    "1. **github** -> create a new public repo\n",
    "\n",
    "2. **terminal**: \n",
    "```\n",
    "   $ jupyter-book create gitname\n",
    "   $ git clone https://github.com/book\n",
    "   $ jupyter-book build gitname\n",
    "   $ cp -r gitname/* book\n",
    "   $ cd book\n",
    "   $ git add ./*\n",
    "   $ git commit -m \"whatever update to your repo\"\n",
    "   $ git push\n",
    "   $ ghp-import -n -p -f _built/html\n",
    "```\n",
    "3. **github** -> repo -> github-pages -> view deployment\n",
    "\n",
    "\n"
   ]
  }
 ],
 "metadata": {
  "kernelspec": {
   "display_name": "Python 3",
   "language": "python",
   "name": "python3"
  },
  "language_info": {
   "codemirror_mode": {
    "name": "ipython",
    "version": 3
   },
   "file_extension": ".py",
   "mimetype": "text/x-python",
   "name": "python",
   "nbconvert_exporter": "python",
   "pygments_lexer": "ipython3",
   "version": "3.10.9"
  },
  "widgets": {
   "application/vnd.jupyter.widget-state+json": {
    "state": {},
    "version_major": 2,
    "version_minor": 0
   }
  }
 },
 "nbformat": 4,
 "nbformat_minor": 4
}