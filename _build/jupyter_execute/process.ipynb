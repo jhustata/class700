{
 "cells": [
  {
   "attachments": {},
   "cell_type": "markdown",
   "metadata": {},
   "source": [
    "# process\n",
    "\n",
    "[wk1](https://jhjhm.zoom.us/rec/play/b4ikb1wvztFtnF91Bk6MqGyTh47IjshuMmfhqkKCJthpDnG8X5GuBocPoxVZ2zZpomn0hcmJVOoGz57_.g2JBGf47EDuvCtYG?canPlayFromShare=true&from=my_recording&continueMode=true&componentName=rec-play&originRequestUrl=https%3A%2F%2Fjhjhm.zoom.us%2Frec%2Fshare%2FwQFdA9HfocN5RMJek5hpLG4sgbAV3uf2cQCG6zf1TtUvHtS7FTDsJyrxWQ0899Bu.-f2SVivW9gZBLA_t): `twoway`\n",
    "1. Instructor: Abimereki Muzaale muzaale@jhmi.edu\n",
    "2. TA: Jason Haw nhaw1@jhu.edu\n",
    "3. Backup: Vincent Jin zjin26@jhmi.edu, Johnathan He zhe33@jhu.edu\n",
    "4. Mortality: Task1 https://jhustata.github.io/book/jjj.html\n",
    "5. Runtime: Quantifying it & optimizing code in light of memory [cdc.gov](https://ftp.cdc.gov/pub/), [nber.org](https://data.nber.org/mortality/), [twoway](https://jhustata.github.io/book/_downloads/9359d2ae4f8ad2efcfe2fd34e3547c35/mortality.png)\n",
    "\n",
    "[wk2](https://jhjhm.zoom.us/rec/play/Z6XxwctVdO_7G4Au9Fu037cGyjXTto5N71ojOYjKxWwfJBiPt89TJoFHiFKKItUpuxEM0BSvEhA8s58D.hwhzFreQ2tFKqL36?canPlayFromShare=true&from=my_recording&startTime=1680639414000&componentName=rec-play&originRequestUrl=https%3A%2F%2Fjhjhm.zoom.us%2Frec%2Fshare%2FVVsgzwzUkaYQJHR4R5_bp0kf8GvoBszDD3bMax0kuSC_PeGUaeLX1ZwcV7Rhwa41.PjOE99QxZeyqB84a%3FstartTime%3D1680639414000): `timer`\n",
    "1. Discussion of Task1\n",
    "2. You'll offer `mortality` as a **surprise** bonus to users of `nhanes`\n",
    "3. Think of how to incorporate it into your final `nhanes` program\n",
    "\n",
    "[wk3](https://jhjhm.zoom.us/rec/share/c6zqCBZPu7KVvHwFy12IKSv3RLfeiLvAf_Ihetu6JXvrotldmXz58QqXk740DoTJ.0uAuBvr_zkEIUtkN?startTime=1681243501000): `nhanes`\n",
    "1. `program define nhanes`\n",
    "2. A flexible program \n",
    "3. Responsive to anticipated user needs\n",
    "4. I've gifted v041023 of this project\n",
    "5. You'll share updates each week culminating in an .html abstract!\n",
    "\n",
    "[wk4](https://jhjhm.zoom.us/rec/share/feS9fNFn0j_aKv03rA-RGl5l1AG2GX3oabvnlRBkNGi7F7psKzwmKv2G0jgTsKEl.UTzqCDa6wttDfAUZ?startTime=1681848284000): `dyndoc`\n",
    "1. current nhanes.ado addresses needs for 340.600 class week II\n",
    "2. upgrade it to respond to a list of variables selected by the user\n",
    "3. publish this update as a v041723 release in your online book\n",
    "\n",
    "wk5: `syntax varlist`\n",
    "\n",
    "wk6: `,[dataset(string)] [sample(int)]`\n",
    "\n",
    "wk7: `if inrange(year,1988,2018)`\n",
    "\n",
    "wk8: `help nhanes`"
   ]
  },
  {
   "attachments": {},
   "cell_type": "markdown",
   "metadata": {},
   "source": [
    "checklist:\n",
    "\n",
    "1. advanced Stata syntax\n",
    "2. simulations using Stata\n",
    "3. programs to automate analyses\n",
    "4. faster runtime, minimal memory\n",
    "5. [markdown, html, LaTeX](https://towardsdatascience.com/write-markdown-latex-in-the-jupyter-notebook-10985edb91fd)"
   ]
  }
 ],
 "metadata": {
  "kernelspec": {
   "display_name": "Python 3",
   "language": "python",
   "name": "python3"
  },
  "language_info": {
   "codemirror_mode": {
    "name": "ipython",
    "version": 3
   },
   "file_extension": ".py",
   "mimetype": "text/x-python",
   "name": "python",
   "nbconvert_exporter": "python",
   "pygments_lexer": "ipython3",
   "version": "3.11.2"
  }
 },
 "nbformat": 4,
 "nbformat_minor": 2
}