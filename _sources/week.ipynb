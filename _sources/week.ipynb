{
 "cells": [
  {
   "attachments": {},
   "cell_type": "markdown",
   "metadata": {},
   "source": [
    "# week\n",
    "\n",
    "wk1: Introduction\n",
    "1. Instructor: Abimereki Muzaale muzaale@jhmi.edu\n",
    "2. TA: Jason Haw nhaw1@jhu.edu\n",
    "3. Backup: Vincent Jin zjin2@jhmi.edu, Johnathan He zhe33@jhu.edu\n",
    "4. Mortality: Task1 https://jhustata.github.io/book/jjj.html\n",
    "5. Runtime: Quantifying it & optimizing code in light of memory\n",
    "\n",
    "wk2: Runtime\n",
    "1. Discussion of Task1\n",
    "\n",
    "wk3: NHANES III: [session video](https://jhjhm.zoom.us/rec/share/c6zqCBZPu7KVvHwFy12IKSv3RLfeiLvAf_Ihetu6JXvrotldmXz58QqXk740DoTJ.0uAuBvr_zkEIUtkN?startTime=1681243501000)\n",
    "1. program define nhanes\n",
    "2. a flexible program \n",
    "3. responsive to anticipated user needs\n",
    "4. i've shared v041023 of this project\n",
    "5. you'll share updates each week culminating in an .html abstract!\n",
    "\n",
    "wk4: Update1\n",
    "1. current nhanes.ado addresses needs for 340.600 class week II\n",
    "2. upgrade it to respond to a list of variables selected by the user\n",
    "3. publish this update as a v041723 release in your online book\n",
    "\n",
    "wk5: Update2\n",
    "etc.\n",
    "\n",
    "wk6: Update3\n",
    "\n",
    "wk7: Present\n",
    "\n",
    "wk8: Submit"
   ]
  }
 ],
 "metadata": {
  "language_info": {
   "name": "python"
  },
  "orig_nbformat": 4
 },
 "nbformat": 4,
 "nbformat_minor": 2
}
