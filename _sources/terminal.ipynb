{
 "cells": [
  {
   "attachments": {},
   "cell_type": "markdown",
   "metadata": {},
   "source": [
    "# terminal\n",
    "\n",
    "The intro to this book provides simple instructive videos on how to publish online jupyter and bookdown books, which will be the medium you use to update us each week on your progress!\n",
    "\n",
    "You will not be able to use a mouse for most of these tasks. And so if you are not familiar with command-prompts, this is your lucky opportunity to finally confront your fears. Its really straight-forward stuff since we will provide you with much guidance. But remember that there are lots of guides out there on youtube and even ChatGPT.\n",
    "\n",
    "Please use the discussion forum to communicate amongs each other and with your teaching team including Jason and I, but also including Vincent and Johnathan from the 340.600 class. You may use platforms beyond these for the efficiency of your team, including Microsoft teams, Slack, etc.\n",
    "\n",
    "\n",
    "\n"
   ]
  }
 ],
 "metadata": {
  "kernelspec": {
   "display_name": "Python 3",
   "language": "python",
   "name": "python3"
  },
  "language_info": {
   "codemirror_mode": {
    "name": "ipython",
    "version": 3
   },
   "file_extension": ".py",
   "mimetype": "text/x-python",
   "name": "python",
   "nbconvert_exporter": "python",
   "pygments_lexer": "ipython3",
   "version": "3.8.0"
  },
  "widgets": {
   "application/vnd.jupyter.widget-state+json": {
    "state": {},
    "version_major": 2,
    "version_minor": 0
   }
  }
 },
 "nbformat": 4,
 "nbformat_minor": 4
}
